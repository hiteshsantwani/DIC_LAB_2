{
 "cells": [
  {
   "cell_type": "code",
   "execution_count": 169,
   "metadata": {},
   "outputs": [],
   "source": [
    "#Script for cleaning twitter data\n",
    "from nltk.tokenize import word_tokenize\n",
    "import re\n",
    "import pandas as pd\n",
    "from nltk.corpus import stopwords\n",
    "import string\n",
    "from nltk.stem import PorterStemmer\n",
    "from nltk.tokenize import word_tokenize\n",
    "from nltk.stem import WordNetLemmatizer\n",
    "from nltk.tokenize import word_tokenize"
   ]
  },
  {
   "cell_type": "code",
   "execution_count": 170,
   "metadata": {},
   "outputs": [
    {
     "name": "stderr",
     "output_type": "stream",
     "text": [
      "[nltk_data] Downloading package stopwords to\n",
      "[nltk_data]     /Users/hiteshsantwani/nltk_data...\n",
      "[nltk_data]   Package stopwords is already up-to-date!\n"
     ]
    },
    {
     "data": {
      "text/plain": [
       "True"
      ]
     },
     "execution_count": 170,
     "metadata": {},
     "output_type": "execute_result"
    }
   ],
   "source": [
    "import nltk\n",
    "nltk.download('stopwords')"
   ]
  },
  {
   "cell_type": "code",
   "execution_count": 171,
   "metadata": {},
   "outputs": [],
   "source": [
    "emoticons_str = r\"\"\"\n",
    "    (?:\n",
    "        [:=;] # Eyes\n",
    "        [oO\\-]? # Nose (optional)\n",
    "        [D\\)\\]\\(\\]/\\\\OpP] # Mouth\n",
    "    )\"\"\"\n",
    " \n",
    "regex_str = [\n",
    "    emoticons_str,\n",
    "    r'<[^>]+>', # HTML tags\n",
    "    r'(?:@[\\w_]+)', # @-mentions\n",
    "    r\"(?:\\#+[\\w_]+[\\w\\'_\\-]*[\\w_]+)\", # hash-tags\n",
    "    r'http[s]?://(?:[a-z]|[0-9]|[$-_@.&amp;+]|[!*\\(\\),]|(?:%[0-9a-f][0-9a-f]))+', # URLs \n",
    "    r'(?:(?:\\d+,?)+(?:\\.?\\d+)?)', # numbers\n",
    "    r\"(?:[a-z][a-z'\\-_]+[a-z])\", # words with - and '\n",
    "    r'(?:[\\w_]+)', # other words\n",
    "    r'(?:\\S)' # anything else\n",
    "]\n",
    "\n",
    "delete_str = [\n",
    "    emoticons_str,\n",
    "    r'<[^>]+>', # HTML tags\n",
    "    r'(?:@[\\w_]+)', # @-mentions\n",
    "    r\"(?:\\#+[\\w_]+[\\w\\'_\\-]*[\\w_]+)\", # hash-tags\n",
    "    r'http[s]?://(?:[a-z]|[0-9]|[$-_@.&amp;+]|[!*\\(\\),]|(?:%[0-9a-f][0-9a-f]))+', # URLs \n",
    "    r'(?:(?:\\d+,?)+(?:\\.?\\d+)?)', # numbers\n",
    "    r'[^\\x00-\\x7f]' #hex characters    \n",
    "    #r\"(?:[a-z][a-z'\\-_]+[a-z])\" # words with - and '\n",
    "    #r'(?:[\\w_]+)', # other words\n",
    "    #r'(?:\\S)' # anything else\n",
    "]"
   ]
  },
  {
   "cell_type": "code",
   "execution_count": 172,
   "metadata": {},
   "outputs": [],
   "source": [
    "tokens_re = re.compile(r'('+'|'.join(regex_str)+')', re.VERBOSE | re.IGNORECASE)\n",
    "emoticon_re = re.compile(r'^'+emoticons_str+'$', re.VERBOSE | re.IGNORECASE)\n",
    "delete_re = re.compile(r'('+'|'.join(delete_str)+')', re.VERBOSE | re.IGNORECASE)"
   ]
  },
  {
   "cell_type": "code",
   "execution_count": 173,
   "metadata": {},
   "outputs": [],
   "source": [
    "englishwords = set(nltk.corpus.words.words())"
   ]
  },
  {
   "cell_type": "code",
   "execution_count": 198,
   "metadata": {},
   "outputs": [],
   "source": [
    "stop_words = set(stopwords.words('english') + list(string.punctuation) + ['r', '..', 'A', 'D', 'S', '\"', '//', '...', '--', 'C', 'D', 'E', 'F', 'G', 'H', 'I', 'J', 'K', 'L', 'M', 'N', 'O', 'P', 'Q', 'R', 'S', 'T', 'U', 'V', 'W', 'X', 'Y', 'Z', 'rt', 'RT', 'via', 'new' ,'york' ,'one' ,'like' ,'would','also','us','ms', 'love' ,'page','think', 'time', 'first','last','get','even','subscribe','days','city','mr','years','year','p','amp','man','video','live','please','much','could','u'])\n"
   ]
  },
  {
   "cell_type": "code",
   "execution_count": 175,
   "metadata": {},
   "outputs": [],
   "source": [
    "stemmer = PorterStemmer()\n",
    "lemmatizer = WordNetLemmatizer()"
   ]
  },
  {
   "cell_type": "code",
   "execution_count": 176,
   "metadata": {},
   "outputs": [],
   "source": [
    "f = open(\"saved_tweetseurope.txt\",\"r\")"
   ]
  },
  {
   "cell_type": "code",
   "execution_count": 177,
   "metadata": {},
   "outputs": [],
   "source": [
    "fout = open(\"saved_tweetseuropeOP.txt\",\"w\")\n",
    "\n",
    "for x in f:\n",
    "    x = re.sub(r'\\d+', '', x).strip()\n",
    "    \n",
    "    x = \" \".join(w for w in nltk.wordpunct_tokenize(x) \\\n",
    "         if w.lower() in englishwords or not w.isalpha())\n",
    "    \n",
    "    tokens = word_tokenize(x)\n",
    "    result = [i for i in tokens if not i in stop_words]\n",
    "    stemResult = [stemmer.stem(word) for word in result]\n",
    "    lemmaResult = [lemmatizer.lemmatize(word) for word in result]\n",
    "    \n",
    "    for word in lemmaResult:\n",
    "        fout.write(word + ',')"
   ]
  },
  {
   "cell_type": "code",
   "execution_count": 181,
   "metadata": {},
   "outputs": [],
   "source": [
    "f = open(\"saved_tweetsgermany.txt\",\"r\")"
   ]
  },
  {
   "cell_type": "code",
   "execution_count": 182,
   "metadata": {},
   "outputs": [],
   "source": [
    "fout = open(\"saved_tweetsgermanyOP.txt\",\"w\")\n",
    "\n",
    "for x in f:\n",
    "    x = re.sub(r'\\d+', '', x).strip()\n",
    "    \n",
    "    x = \" \".join(w for w in nltk.wordpunct_tokenize(x) \\\n",
    "         if w.lower() in englishwords or not w.isalpha())\n",
    "    \n",
    "    tokens = word_tokenize(x)\n",
    "    result = [i for i in tokens if not i in stop_words]\n",
    "    stemResult = [stemmer.stem(word) for word in result]\n",
    "    lemmaResult = [lemmatizer.lemmatize(word) for word in result]\n",
    "    \n",
    "    for word in lemmaResult:\n",
    "        fout.write(word + ',')"
   ]
  },
  {
   "cell_type": "code",
   "execution_count": 183,
   "metadata": {},
   "outputs": [],
   "source": [
    "f = open(\"saved_tweetsunitedkingdom.txt\",\"r\")"
   ]
  },
  {
   "cell_type": "code",
   "execution_count": 184,
   "metadata": {},
   "outputs": [],
   "source": [
    "fout = open(\"saved_tweetsUnitedKingdomOP.txt\",\"w\")\n",
    "\n",
    "for x in f:\n",
    "    x = re.sub(r'\\d+', '', x).strip()\n",
    "    \n",
    "    x = \" \".join(w for w in nltk.wordpunct_tokenize(x) \\\n",
    "         if w.lower() in englishwords or not w.isalpha())\n",
    "    \n",
    "    tokens = word_tokenize(x)\n",
    "    result = [i for i in tokens if not i in stop_words]\n",
    "    stemResult = [stemmer.stem(word) for word in result]\n",
    "    lemmaResult = [lemmatizer.lemmatize(word) for word in result]\n",
    "    \n",
    "    for word in lemmaResult:\n",
    "        fout.write(word + ',')"
   ]
  },
  {
   "cell_type": "code",
   "execution_count": 185,
   "metadata": {},
   "outputs": [],
   "source": [
    "f = open(\"saved_tweetsfrance.txt\",\"r\")"
   ]
  },
  {
   "cell_type": "code",
   "execution_count": 186,
   "metadata": {},
   "outputs": [],
   "source": [
    "fout = open(\"saved_tweetsFranceOP.txt\",\"w\")\n",
    "\n",
    "for x in f:\n",
    "    x = re.sub(r'\\d+', '', x).strip()\n",
    "    \n",
    "    x = \" \".join(w for w in nltk.wordpunct_tokenize(x) \\\n",
    "         if w.lower() in englishwords or not w.isalpha())\n",
    "    \n",
    "    tokens = word_tokenize(x)\n",
    "    result = [i for i in tokens if not i in stop_words]\n",
    "    stemResult = [stemmer.stem(word) for word in result]\n",
    "    lemmaResult = [lemmatizer.lemmatize(word) for word in result]\n",
    "    \n",
    "    for word in lemmaResult:\n",
    "        fout.write(word + ',')"
   ]
  },
  {
   "cell_type": "code",
   "execution_count": 187,
   "metadata": {},
   "outputs": [],
   "source": [
    "f = open(\"saved_tweetsireland.txt\",\"r\")"
   ]
  },
  {
   "cell_type": "code",
   "execution_count": 188,
   "metadata": {},
   "outputs": [],
   "source": [
    "fout = open(\"saved_tweetsIrelandOP.txt\",\"w\")\n",
    "\n",
    "for x in f:\n",
    "    x = re.sub(r'\\d+', '', x).strip()\n",
    "    \n",
    "    x = \" \".join(w for w in nltk.wordpunct_tokenize(x) \\\n",
    "         if w.lower() in englishwords or not w.isalpha())\n",
    "    \n",
    "    tokens = word_tokenize(x)\n",
    "    result = [i for i in tokens if not i in stop_words]\n",
    "    stemResult = [stemmer.stem(word) for word in result]\n",
    "    lemmaResult = [lemmatizer.lemmatize(word) for word in result]\n",
    "    \n",
    "    for word in lemmaResult:\n",
    "        fout.write(word + ',')"
   ]
  },
  {
   "cell_type": "code",
   "execution_count": 189,
   "metadata": {},
   "outputs": [],
   "source": [
    "f = open(\"saved_tweetsitaly.txt\",\"r\")"
   ]
  },
  {
   "cell_type": "code",
   "execution_count": 190,
   "metadata": {},
   "outputs": [],
   "source": [
    "fout = open(\"saved_tweetsItalyOP.txt\",\"w\")\n",
    "\n",
    "for x in f:\n",
    "    x = re.sub(r'\\d+', '', x).strip()\n",
    "    \n",
    "    x = \" \".join(w for w in nltk.wordpunct_tokenize(x) \\\n",
    "         if w.lower() in englishwords or not w.isalpha())\n",
    "    \n",
    "    tokens = word_tokenize(x)\n",
    "    result = [i for i in tokens if not i in stop_words]\n",
    "    stemResult = [stemmer.stem(word) for word in result]\n",
    "    lemmaResult = [lemmatizer.lemmatize(word) for word in result]\n",
    "    \n",
    "    for word in lemmaResult:\n",
    "        fout.write(word + ',')"
   ]
  }
 ],
 "metadata": {
  "kernelspec": {
   "display_name": "Python 3",
   "language": "python",
   "name": "python3"
  },
  "language_info": {
   "codemirror_mode": {
    "name": "ipython",
    "version": 3
   },
   "file_extension": ".py",
   "mimetype": "text/x-python",
   "name": "python",
   "nbconvert_exporter": "python",
   "pygments_lexer": "ipython3",
   "version": "3.6.8"
  }
 },
 "nbformat": 4,
 "nbformat_minor": 2
}
